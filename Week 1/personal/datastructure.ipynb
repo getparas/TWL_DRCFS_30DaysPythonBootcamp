{
 "cells": [
  {
   "cell_type": "markdown",
   "metadata": {},
   "source": [
    "## List & Tuple\n"
   ]
  },
  {
   "cell_type": "code",
   "execution_count": null,
   "metadata": {},
   "outputs": [],
   "source": [
    "# List\n",
    "# List is Mutable, we can change things in variables.\n",
    "\n",
    "friendName = [\"Harry\",\"Peter\",\"Olivia\",\"Jack\",\"John\",\"Mosh\"]\n",
    "\n",
    "# Access list's values:\n",
    "print(friendName[0])\n",
    "print(friendName[1])\n",
    "print(friendName[2])\n",
    "print(friendName[3])\n",
    "print(friendName[4])\n",
    "print(friendName[5])\n",
    "print(friendName)\n",
    "\n",
    "# Using for loop  to list's values:\n",
    "for friend in friendName:\n",
    "    print(friend)\n",
    "\n",
    "# Add something to list:\n",
    "friendName.append(\"Toa\") # append() -> Add an element at the end of the list.\n",
    "print(friendName)\n",
    "\n",
    "# Remove the element of index 1:\n",
    "friendName.pop(0) # pop() -> Remove the element at the specified position.\n",
    "print(friendName)\n",
    "\n",
    "# Insert into specific index:\n",
    "friendName.insert(0,\"Harry\") # insert() -> Add an element at the specified position.\n",
    "print(friendName)\n",
    "\n",
    "# Replace the value:\n",
    "friendName[0] = \"Pritha\"\n",
    "print(friendName)"
   ]
  },
  {
   "cell_type": "markdown",
   "metadata": {},
   "source": [
    "### List vs Tuple\n",
    "List: \n",
    "1. Initialization => []\n",
    "2. Mutable\n",
    "\n",
    "Tuple:\n",
    "1. Initialization => ()\n",
    "2. Immutable"
   ]
  },
  {
   "cell_type": "code",
   "execution_count": null,
   "metadata": {},
   "outputs": [],
   "source": [
    "# Tuple\n",
    "youtubeName = (\"Coding in Public\",\"iCoder\",\"Dave Gray\", \"Programiz\",\"WebDev Simplified\")\n",
    "for youtube_name in youtubeName:\n",
    "    print(youtube_name)\n",
    "    \n",
    "print(youtubeName.index('Coding in Public'))\n",
    "\n",
    "# "
   ]
  }
 ],
 "metadata": {
  "kernelspec": {
   "display_name": "Python 3.9.7 64-bit",
   "language": "python",
   "name": "python3"
  },
  "language_info": {
   "codemirror_mode": {
    "name": "ipython",
    "version": 3
   },
   "file_extension": ".py",
   "mimetype": "text/x-python",
   "name": "python",
   "nbconvert_exporter": "python",
   "pygments_lexer": "ipython3",
   "version": "3.9.7"
  },
  "orig_nbformat": 4,
  "vscode": {
   "interpreter": {
    "hash": "397704579725e15f5c7cb49fe5f0341eb7531c82d19f2c29d197e8b64ab5776b"
   }
  }
 },
 "nbformat": 4,
 "nbformat_minor": 2
}
