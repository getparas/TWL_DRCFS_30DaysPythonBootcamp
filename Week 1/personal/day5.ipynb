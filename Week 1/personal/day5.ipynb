{
 "cells": [
  {
   "cell_type": "markdown",
   "metadata": {},
   "source": [
    "## Dictionary\n"
   ]
  },
  {
   "cell_type": "code",
   "execution_count": null,
   "metadata": {},
   "outputs": [],
   "source": [
    "# key : value\n",
    "# Dictionary is Mutable.\n",
    "user_pass = {'iCoder':'1212','Web':'3434','Coder':'5656'}\n",
    "print(user_pass)\n",
    "#Accessing the value from dictionary:\n",
    "print(user_pass.get('iCoder')) # It returns None if the key is not found.\n",
    "print(user_pass['Web']) # It throws Keyerror if the key is not found.\n",
    "# Replacing the value using key\n",
    "user_pass['Web'] = '1234'\n",
    "print(user_pass)\n",
    "\n",
    "print(user_pass.items())\n",
    "print(user_pass.values())\n",
    "print(user_pass.keys())"
   ]
  },
  {
   "cell_type": "markdown",
   "metadata": {},
   "source": [
    "## Login System"
   ]
  },
  {
   "cell_type": "code",
   "execution_count": null,
   "metadata": {},
   "outputs": [],
   "source": [
    "# 1. Take input from user, about their username and password.\n",
    "# 2. Try to get their password from the dictionary.\n",
    "# 3. If the password is None, user does not exist.\n",
    "# 4. If the password matches with the password given by the user, say you are logged in else say incorrect password.\n",
    "\n",
    "userName = input(\"Enter your name: \");\n",
    "input_password = input(\"Enter your password: \")\n",
    "\n",
    "real_password = user_pass.get(userName)\n",
    "if real_password is None:\n",
    "    print(\"User does not exist!\")\n",
    "elif real_password == input_password:\n",
    "    print(\"You are logged in!\")\n",
    "else:\n",
    "    print(\"Incorrect password!\")\n"
   ]
  }
 ],
 "metadata": {
  "kernelspec": {
   "display_name": "Python 3.9.7 64-bit",
   "language": "python",
   "name": "python3"
  },
  "language_info": {
   "codemirror_mode": {
    "name": "ipython",
    "version": 3
   },
   "file_extension": ".py",
   "mimetype": "text/x-python",
   "name": "python",
   "nbconvert_exporter": "python",
   "pygments_lexer": "ipython3",
   "version": "3.9.7"
  },
  "orig_nbformat": 4,
  "vscode": {
   "interpreter": {
    "hash": "397704579725e15f5c7cb49fe5f0341eb7531c82d19f2c29d197e8b64ab5776b"
   }
  }
 },
 "nbformat": 4,
 "nbformat_minor": 2
}
